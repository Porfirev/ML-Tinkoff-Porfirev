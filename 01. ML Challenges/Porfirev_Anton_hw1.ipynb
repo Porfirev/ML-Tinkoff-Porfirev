{
  "cells": [
    {
      "cell_type": "markdown",
      "id": "VvFvjNBH3QY3",
      "metadata": {
        "id": "VvFvjNBH3QY3"
      },
      "source": [
        "## Домашнее задание"
      ]
    },
    {
      "cell_type": "markdown",
      "id": "F1nB_pZ53TLc",
      "metadata": {
        "id": "F1nB_pZ53TLc"
      },
      "source": [
        "В этой тетрадке вам предлагается реализовать задания при помощи библиотеки numpy. Крайне желательно при выполнении разных заданий не использовать циклы. Если вы не понимаете, как выполнить конкретную задачу без циклов - убирайте их постепенно, разбейте выполнение задачи на этапы и постепенно векторизуйте каждый этап.\n",
        "\n",
        "Если вам непонятно, как выполнить ту или иную операцию - не стесняйтесь гуглить, если над вами повис дедлайн, а вы всё ещё на чём-то застряли - пишите преподу/в чат, это ок.\n",
        "\n",
        "**Обсудить решение лучше и сделать в итоге хоть что-то гораздо лучше, чем скатать чужой код или сдать пустую тетрадку.**"
      ]
    },
    {
      "cell_type": "code",
      "execution_count": 67,
      "id": "BxCGcHcxyAwh",
      "metadata": {
        "id": "BxCGcHcxyAwh"
      },
      "outputs": [],
      "source": [
        "import numpy as np"
      ]
    },
    {
      "cell_type": "markdown",
      "id": "byY0Ab4Jww36",
      "metadata": {
        "id": "byY0Ab4Jww36"
      },
      "source": [
        "### Drill (1 балл)"
      ]
    },
    {
      "cell_type": "markdown",
      "id": "g9nrcP5ExLOr",
      "metadata": {
        "id": "g9nrcP5ExLOr"
      },
      "source": [
        "Задание 1.\n",
        "\n",
        "Инициализируйте нулями массивы следующих форм:\n",
        "\n",
        "* (5)\n",
        "* (5, 1)\n",
        "* (10, 2)\n",
        "* (3, 6, 2)\n",
        "* (4, 3, 2, 1)"
      ]
    },
    {
      "cell_type": "code",
      "execution_count": 68,
      "id": "GDFryOCFwwO5",
      "metadata": {
        "id": "GDFryOCFwwO5"
      },
      "outputs": [],
      "source": [
        "a1 = np.zeros(5)\n",
        "a2 = np.zeros((5, 2))\n",
        "a3 = np.zeros((10, 2))\n",
        "a4 = np.zeros((3, 6, 2))\n",
        "a5 = np.zeros((4, 3, 2, 1))"
      ]
    },
    {
      "cell_type": "code",
      "source": [
        "a1.shape, a2.shape, a3.shape, a4.shape, a5.shape"
      ],
      "metadata": {
        "colab": {
          "base_uri": "https://localhost:8080/"
        },
        "id": "Bg6YyPOWpSC_",
        "outputId": "5d672549-83e0-43f0-f4ce-02487791bb42"
      },
      "id": "Bg6YyPOWpSC_",
      "execution_count": 69,
      "outputs": [
        {
          "output_type": "execute_result",
          "data": {
            "text/plain": [
              "((5,), (5, 2), (10, 2), (3, 6, 2), (4, 3, 2, 1))"
            ]
          },
          "metadata": {},
          "execution_count": 69
        }
      ]
    },
    {
      "cell_type": "markdown",
      "id": "nB5ePY6S5AWx",
      "metadata": {
        "id": "nB5ePY6S5AWx"
      },
      "source": [
        "Задание 2.\n",
        "\n",
        "Инициализируйте единицами массивы таких же форм и приведите их к целочисленному виду:"
      ]
    },
    {
      "cell_type": "code",
      "execution_count": 70,
      "id": "bW7_oEBw5Ga8",
      "metadata": {
        "id": "bW7_oEBw5Ga8",
        "colab": {
          "base_uri": "https://localhost:8080/"
        },
        "outputId": "c8c14ef6-6196-47f0-98ea-8ba4b56fe4ac"
      },
      "outputs": [
        {
          "output_type": "execute_result",
          "data": {
            "text/plain": [
              "array([[1, 1],\n",
              "       [1, 1],\n",
              "       [1, 1],\n",
              "       [1, 1],\n",
              "       [1, 1]])"
            ]
          },
          "metadata": {},
          "execution_count": 70
        }
      ],
      "source": [
        "b1 = np.ones(5, dtype=int)\n",
        "b2 = np.ones((5, 2), dtype=int)\n",
        "b3 = np.ones((10, 2), dtype=int)\n",
        "b4 = np.ones((3, 6, 2), dtype=int)\n",
        "b5 = np.ones((4, 3, 2, 1), dtype=int)\n",
        "b2"
      ]
    },
    {
      "cell_type": "markdown",
      "id": "_S7FJFXexb3o",
      "metadata": {
        "id": "_S7FJFXexb3o"
      },
      "source": [
        "Задание 3.\n",
        "\n",
        "Выполните для векторов выше `reshape` в \"форму\"\n",
        "* с двумя компонентами\n",
        "* с тремя компонентами\n",
        "* с четырьмя компонентами"
      ]
    },
    {
      "cell_type": "code",
      "execution_count": 71,
      "id": "XDWmmsoYXBDP",
      "metadata": {
        "id": "XDWmmsoYXBDP",
        "colab": {
          "base_uri": "https://localhost:8080/"
        },
        "outputId": "affee05b-55cf-4b04-e28f-b6601e70b0cd"
      },
      "outputs": [
        {
          "output_type": "execute_result",
          "data": {
            "text/plain": [
              "array([[1],\n",
              "       [1],\n",
              "       [1],\n",
              "       [1],\n",
              "       [1],\n",
              "       [1],\n",
              "       [1],\n",
              "       [1],\n",
              "       [1],\n",
              "       [1],\n",
              "       [1],\n",
              "       [1],\n",
              "       [1],\n",
              "       [1],\n",
              "       [1],\n",
              "       [1],\n",
              "       [1],\n",
              "       [1],\n",
              "       [1],\n",
              "       [1],\n",
              "       [1],\n",
              "       [1],\n",
              "       [1],\n",
              "       [1]])"
            ]
          },
          "metadata": {},
          "execution_count": 71
        }
      ],
      "source": [
        "b1.reshape((5, 1))\n",
        "b2.reshape((10, 1))\n",
        "b3.reshape((20, 1))\n",
        "b4.reshape((36, 1))\n",
        "b5.reshape((24, 1))"
      ]
    },
    {
      "cell_type": "code",
      "source": [
        "b1.reshape((5, 1, 1))\n",
        "b2.reshape((10, 1, 1))\n",
        "b3.reshape((20, 1, 1))\n",
        "b4.reshape((36, 1, 1))\n",
        "b5.reshape((24, 1, 1))"
      ],
      "metadata": {
        "colab": {
          "base_uri": "https://localhost:8080/"
        },
        "id": "8JW8uM1Rq88S",
        "outputId": "f98f97f5-06aa-4a7a-a8d1-c0f5cda4bf2d"
      },
      "id": "8JW8uM1Rq88S",
      "execution_count": 72,
      "outputs": [
        {
          "output_type": "execute_result",
          "data": {
            "text/plain": [
              "array([[[1]],\n",
              "\n",
              "       [[1]],\n",
              "\n",
              "       [[1]],\n",
              "\n",
              "       [[1]],\n",
              "\n",
              "       [[1]],\n",
              "\n",
              "       [[1]],\n",
              "\n",
              "       [[1]],\n",
              "\n",
              "       [[1]],\n",
              "\n",
              "       [[1]],\n",
              "\n",
              "       [[1]],\n",
              "\n",
              "       [[1]],\n",
              "\n",
              "       [[1]],\n",
              "\n",
              "       [[1]],\n",
              "\n",
              "       [[1]],\n",
              "\n",
              "       [[1]],\n",
              "\n",
              "       [[1]],\n",
              "\n",
              "       [[1]],\n",
              "\n",
              "       [[1]],\n",
              "\n",
              "       [[1]],\n",
              "\n",
              "       [[1]],\n",
              "\n",
              "       [[1]],\n",
              "\n",
              "       [[1]],\n",
              "\n",
              "       [[1]],\n",
              "\n",
              "       [[1]]])"
            ]
          },
          "metadata": {},
          "execution_count": 72
        }
      ]
    },
    {
      "cell_type": "code",
      "source": [
        "b1.reshape((5, 1, 1, 1))\n",
        "b2.reshape((10, 1, 1, 1))\n",
        "b3.reshape((20, 1, 1, 1))\n",
        "b4.reshape((36, 1, 1, 1))\n",
        "b5.reshape((24, 1, 1, 1))"
      ],
      "metadata": {
        "colab": {
          "base_uri": "https://localhost:8080/"
        },
        "id": "e6HX86MQrOUv",
        "outputId": "878a67f4-78dd-419e-a07e-b1e4607ca793"
      },
      "id": "e6HX86MQrOUv",
      "execution_count": 73,
      "outputs": [
        {
          "output_type": "execute_result",
          "data": {
            "text/plain": [
              "array([[[[1]]],\n",
              "\n",
              "\n",
              "       [[[1]]],\n",
              "\n",
              "\n",
              "       [[[1]]],\n",
              "\n",
              "\n",
              "       [[[1]]],\n",
              "\n",
              "\n",
              "       [[[1]]],\n",
              "\n",
              "\n",
              "       [[[1]]],\n",
              "\n",
              "\n",
              "       [[[1]]],\n",
              "\n",
              "\n",
              "       [[[1]]],\n",
              "\n",
              "\n",
              "       [[[1]]],\n",
              "\n",
              "\n",
              "       [[[1]]],\n",
              "\n",
              "\n",
              "       [[[1]]],\n",
              "\n",
              "\n",
              "       [[[1]]],\n",
              "\n",
              "\n",
              "       [[[1]]],\n",
              "\n",
              "\n",
              "       [[[1]]],\n",
              "\n",
              "\n",
              "       [[[1]]],\n",
              "\n",
              "\n",
              "       [[[1]]],\n",
              "\n",
              "\n",
              "       [[[1]]],\n",
              "\n",
              "\n",
              "       [[[1]]],\n",
              "\n",
              "\n",
              "       [[[1]]],\n",
              "\n",
              "\n",
              "       [[[1]]],\n",
              "\n",
              "\n",
              "       [[[1]]],\n",
              "\n",
              "\n",
              "       [[[1]]],\n",
              "\n",
              "\n",
              "       [[[1]]],\n",
              "\n",
              "\n",
              "       [[[1]]]])"
            ]
          },
          "metadata": {},
          "execution_count": 73
        }
      ]
    },
    {
      "cell_type": "markdown",
      "id": "Kp3SvzHyxyPp",
      "metadata": {
        "id": "Kp3SvzHyxyPp"
      },
      "source": [
        "Задание 4.\n",
        "\n",
        "Для вектора ниже посчитайте его\n",
        "* Максимум по 1 оси\n",
        "* Минимум по 0 оси\n",
        "* Сумму по всем осям\n",
        "* Среднее по 0 оси\n",
        "* Медиану по 1 оси"
      ]
    },
    {
      "cell_type": "code",
      "execution_count": 74,
      "id": "5GcaTzGPx9Tk",
      "metadata": {
        "id": "5GcaTzGPx9Tk",
        "colab": {
          "base_uri": "https://localhost:8080/"
        },
        "outputId": "fe2c67d3-d7b1-4da2-deb4-f5c598b62028"
      },
      "outputs": [
        {
          "output_type": "execute_result",
          "data": {
            "text/plain": [
              "array([[8, 0, 4, 3, 2, 0, 0],\n",
              "       [2, 4, 3, 0, 1, 2, 8],\n",
              "       [7, 4, 3, 7, 6, 1, 7],\n",
              "       [7, 7, 0, 4, 4, 6, 1],\n",
              "       [5, 8, 7, 3, 8, 3, 3]])"
            ]
          },
          "metadata": {},
          "execution_count": 74
        }
      ],
      "source": [
        "v = np.random.randint(0, 9, size=(5, 7))\n",
        "v"
      ]
    },
    {
      "cell_type": "code",
      "execution_count": 75,
      "id": "iZT6E7esxsI1",
      "metadata": {
        "id": "iZT6E7esxsI1",
        "colab": {
          "base_uri": "https://localhost:8080/"
        },
        "outputId": "ad8f38e2-f07d-4341-c990-55dfe79a7d9b"
      },
      "outputs": [
        {
          "output_type": "stream",
          "name": "stdout",
          "text": [
            "[8 8 7 7 8]\n",
            "[8 8 7 7 8 6 8]\n",
            "138\n",
            "[5.8 4.6 3.4 3.4 4.2 2.4 3.8]\n",
            "[2. 2. 6. 4. 5.]\n"
          ]
        }
      ],
      "source": [
        "print(v.max(axis=1))\n",
        "print(v.max(axis=0))\n",
        "print(v.sum())\n",
        "print(v.mean(axis=0))\n",
        "print(np.median(v, axis=1))"
      ]
    },
    {
      "cell_type": "markdown",
      "id": "EiVqZFtpyOHm",
      "metadata": {
        "id": "EiVqZFtpyOHm"
      },
      "source": [
        "Задание 5.\n",
        "\n",
        "Для всё того же вектора `v` выведите\n",
        "* Его shape\n",
        "* 0 компоненту его \"формы\"\n",
        "* 1 компоненту его \"формы\""
      ]
    },
    {
      "cell_type": "code",
      "execution_count": 76,
      "id": "AazCPchWyYGa",
      "metadata": {
        "id": "AazCPchWyYGa",
        "colab": {
          "base_uri": "https://localhost:8080/"
        },
        "outputId": "320a2482-f683-4076-a7be-7513c7722b86"
      },
      "outputs": [
        {
          "output_type": "stream",
          "name": "stdout",
          "text": [
            "(5, 7)\n",
            "5\n",
            "7\n"
          ]
        }
      ],
      "source": [
        "print(v.shape)\n",
        "print(v.shape[0])\n",
        "print(v.shape[1])"
      ]
    },
    {
      "cell_type": "markdown",
      "id": "9bdU9sq1ygiF",
      "metadata": {
        "id": "9bdU9sq1ygiF"
      },
      "source": [
        "Задание 6.\n",
        "\n",
        "Для этого же вектора выведите\n",
        "* Все числа больше 5\n",
        "* Все числа меньше 7 в обратном порядке\n",
        "* Все числа больше 3, которые делятся на 4 без остатка\n",
        "* Все числа, остаток от деления на 5 которых равен 3\n",
        "* Индекс максимума\n",
        "* Индекс минимума\n",
        "* Cписок с индексами элементов отсортированного массива в исходном (неотсортированном)"
      ]
    },
    {
      "cell_type": "markdown",
      "id": "601cc16e",
      "metadata": {
        "id": "601cc16e"
      },
      "source": [
        ""
      ]
    },
    {
      "cell_type": "code",
      "execution_count": 77,
      "id": "WW0nmIYwyfLA",
      "metadata": {
        "id": "WW0nmIYwyfLA",
        "colab": {
          "base_uri": "https://localhost:8080/"
        },
        "outputId": "40df6fb7-f4a7-4928-8da4-ce06208d6ed2"
      },
      "outputs": [
        {
          "output_type": "stream",
          "name": "stdout",
          "text": [
            "[8 8 7 7 6 7 7 7 6 8 7 8]\n",
            "[3 3 3 5 1 6 4 4 0 1 6 3 4 2 1 0 3 4 2 0 0 2 3 4 0]\n",
            "[8 4 4 8 4 4 4 8 8]\n",
            "[8 3 3 8 3 8 3 8 3 3]\n",
            "0\n",
            "1\n",
            "[[1 5 6 4 3 2 0]\n",
            " [3 4 0 5 2 1 6]\n",
            " [5 2 1 4 0 3 6]\n",
            " [2 6 3 4 5 0 1]\n",
            " [3 5 6 0 2 1 4]]\n"
          ]
        }
      ],
      "source": [
        "print(v[v > 5])\n",
        "print(v[v < 7][::-1])\n",
        "print(v[(v > 3) & (v % 4 == 0)])\n",
        "print(v[v % 5 == 3])\n",
        "print(v.argmax())\n",
        "print(v.argmin())\n",
        "print(v.argsort())"
      ]
    },
    {
      "cell_type": "markdown",
      "id": "pd7gVNl9zN-s",
      "metadata": {
        "id": "pd7gVNl9zN-s"
      },
      "source": [
        "Задание 7.\n",
        "\n",
        "Выполните следующие операции над вектором (независимо, не обязательно делать это в последовательности):\n",
        "* Умножьте его на 3\n",
        "* Разделите на 7\n",
        "* Возведите в степень $\\frac{2}{3}$\n",
        "* Посчитайте $\\sin$ от него\n",
        "* Посчитайте $\\log$ от него"
      ]
    },
    {
      "cell_type": "code",
      "execution_count": 78,
      "id": "iTQeUeJ2zNkz",
      "metadata": {
        "id": "iTQeUeJ2zNkz",
        "colab": {
          "base_uri": "https://localhost:8080/"
        },
        "outputId": "51086c2d-6ba0-4c15-aad6-581f043e40b5"
      },
      "outputs": [
        {
          "output_type": "stream",
          "name": "stdout",
          "text": [
            "[[24  0 12  9  6  0  0]\n",
            " [ 6 12  9  0  3  6 24]\n",
            " [21 12  9 21 18  3 21]\n",
            " [21 21  0 12 12 18  3]\n",
            " [15 24 21  9 24  9  9]]\n",
            "[[1.14285714 0.         0.57142857 0.42857143 0.28571429 0.\n",
            "  0.        ]\n",
            " [0.28571429 0.57142857 0.42857143 0.         0.14285714 0.28571429\n",
            "  1.14285714]\n",
            " [1.         0.57142857 0.42857143 1.         0.85714286 0.14285714\n",
            "  1.        ]\n",
            " [1.         1.         0.         0.57142857 0.57142857 0.85714286\n",
            "  0.14285714]\n",
            " [0.71428571 1.14285714 1.         0.42857143 1.14285714 0.42857143\n",
            "  0.42857143]]\n",
            "[[4.         0.         2.5198421  2.08008382 1.58740105 0.\n",
            "  0.        ]\n",
            " [1.58740105 2.5198421  2.08008382 0.         1.         1.58740105\n",
            "  4.        ]\n",
            " [3.65930571 2.5198421  2.08008382 3.65930571 3.30192725 1.\n",
            "  3.65930571]\n",
            " [3.65930571 3.65930571 0.         2.5198421  2.5198421  3.30192725\n",
            "  1.        ]\n",
            " [2.92401774 4.         3.65930571 2.08008382 4.         2.08008382\n",
            "  2.08008382]]\n",
            "[[ 0.98935825  0.         -0.7568025   0.14112001  0.90929743  0.\n",
            "   0.        ]\n",
            " [ 0.90929743 -0.7568025   0.14112001  0.          0.84147098  0.90929743\n",
            "   0.98935825]\n",
            " [ 0.6569866  -0.7568025   0.14112001  0.6569866  -0.2794155   0.84147098\n",
            "   0.6569866 ]\n",
            " [ 0.6569866   0.6569866   0.         -0.7568025  -0.7568025  -0.2794155\n",
            "   0.84147098]\n",
            " [-0.95892427  0.98935825  0.6569866   0.14112001  0.98935825  0.14112001\n",
            "   0.14112001]]\n",
            "[[2.07944154       -inf 1.38629436 1.09861229 0.69314718       -inf\n",
            "        -inf]\n",
            " [0.69314718 1.38629436 1.09861229       -inf 0.         0.69314718\n",
            "  2.07944154]\n",
            " [1.94591015 1.38629436 1.09861229 1.94591015 1.79175947 0.\n",
            "  1.94591015]\n",
            " [1.94591015 1.94591015       -inf 1.38629436 1.38629436 1.79175947\n",
            "  0.        ]\n",
            " [1.60943791 2.07944154 1.94591015 1.09861229 2.07944154 1.09861229\n",
            "  1.09861229]]\n"
          ]
        },
        {
          "output_type": "stream",
          "name": "stderr",
          "text": [
            "/usr/local/lib/python3.7/dist-packages/ipykernel_launcher.py:5: RuntimeWarning: divide by zero encountered in log\n",
            "  \"\"\"\n"
          ]
        }
      ],
      "source": [
        "print(3 * v)\n",
        "print(v / 7)\n",
        "print(v ** (2 / 3))\n",
        "print(np.sin(v))\n",
        "print(np.log(v)) # из-за того, что в v есть 0 возникает ошибка"
      ]
    },
    {
      "cell_type": "markdown",
      "id": "Njvzyat9w9Jw",
      "metadata": {
        "id": "Njvzyat9w9Jw"
      },
      "source": [
        "### Разные инициализации + индексирование (3 балла)"
      ]
    },
    {
      "cell_type": "markdown",
      "id": "IXB2M-hrB1C5",
      "metadata": {
        "id": "IXB2M-hrB1C5"
      },
      "source": [
        "Задание 8.\n",
        "\n",
        "Необходимо построить квадрат $3 \\times 3$ из нечётных чисел"
      ]
    },
    {
      "cell_type": "code",
      "execution_count": 79,
      "id": "0pnAlUNO8w1h",
      "metadata": {
        "id": "0pnAlUNO8w1h",
        "colab": {
          "base_uri": "https://localhost:8080/"
        },
        "outputId": "4a2aecfc-f96c-4fe3-9698-a9a53e209294"
      },
      "outputs": [
        {
          "output_type": "execute_result",
          "data": {
            "text/plain": [
              "array([[ 1,  3,  5],\n",
              "       [ 7,  9, 11],\n",
              "       [13, 15, 17]])"
            ]
          },
          "metadata": {},
          "execution_count": 79
        }
      ],
      "source": [
        "np.arange(1, 18, 2).reshape((3, 3))"
      ]
    },
    {
      "cell_type": "markdown",
      "id": "HmlcbwtOB5OT",
      "metadata": {
        "id": "HmlcbwtOB5OT"
      },
      "source": [
        "Задание 9.\n",
        "\n",
        "Необходимо построить квадрат $4 \\times 4$ из четных чисел в обратном порядке"
      ]
    },
    {
      "cell_type": "code",
      "execution_count": 80,
      "id": "W0lqLNBB81-U",
      "metadata": {
        "id": "W0lqLNBB81-U",
        "colab": {
          "base_uri": "https://localhost:8080/"
        },
        "outputId": "0fe02044-093e-4387-a691-9b3578834a6f"
      },
      "outputs": [
        {
          "output_type": "execute_result",
          "data": {
            "text/plain": [
              "array([[32, 30, 28, 26],\n",
              "       [24, 22, 20, 18],\n",
              "       [16, 14, 12, 10],\n",
              "       [ 8,  6,  4,  2]])"
            ]
          },
          "metadata": {},
          "execution_count": 80
        }
      ],
      "source": [
        "np.arange(32, 0, -2).reshape((4, 4))"
      ]
    },
    {
      "cell_type": "markdown",
      "id": "IeOvIqrFB8zI",
      "metadata": {
        "id": "IeOvIqrFB8zI"
      },
      "source": [
        "Задание 10.\n",
        "\n",
        "Необходимо построить сетку координат $11 \\times 11$ с точкой $(0,0)$ в центре и шагом $0.1$ между клетками\n",
        "\n",
        "Я не смог придумать чего-то красивого, я понимаю, что это тупо копипаста вместо цикла\n"
      ]
    },
    {
      "cell_type": "code",
      "execution_count": 81,
      "id": "gXTZFQzd84lY",
      "metadata": {
        "id": "gXTZFQzd84lY",
        "colab": {
          "base_uri": "https://localhost:8080/"
        },
        "outputId": "2f6ab099-bad7-41dd-f2a3-19f235fa5270"
      },
      "outputs": [
        {
          "output_type": "stream",
          "name": "stdout",
          "text": [
            "(11, 11)\n"
          ]
        }
      ],
      "source": [
        "rowx = np.arange(-0.5, 0.6, 0.1)\n",
        "ansx = rowx.copy()\n",
        "ansx = np.vstack((ansx, rowx))\n",
        "ansx = np.vstack((ansx, rowx))\n",
        "ansx = np.vstack((ansx, rowx))\n",
        "ansx = np.vstack((ansx, rowx))\n",
        "ansx = np.vstack((ansx, rowx))\n",
        "ansx = np.vstack((ansx, rowx))\n",
        "ansx = np.vstack((ansx, rowx))\n",
        "ansx = np.vstack((ansx, rowx))\n",
        "ansx = np.vstack((ansx, rowx))\n",
        "ansx = np.vstack((ansx, rowx))\n",
        "print(ansx.shape)"
      ]
    },
    {
      "cell_type": "code",
      "source": [
        "coly = (np.arange(-0.5, 0.6, 0.1)).reshape(11, 1)\n",
        "ansy = coly.copy()\n",
        "ansy = np.hstack((ansy, coly))\n",
        "ansy = np.hstack((ansy, coly))\n",
        "ansy = np.hstack((ansy, coly))\n",
        "ansy = np.hstack((ansy, coly))\n",
        "ansy = np.hstack((ansy, coly))\n",
        "ansy = np.hstack((ansy, coly))\n",
        "ansy = np.hstack((ansy, coly))\n",
        "ansy = np.hstack((ansy, coly))\n",
        "ansy = np.hstack((ansy, coly))\n",
        "ansy = np.hstack((ansy, coly))\n",
        "print(ansy.shape)"
      ],
      "metadata": {
        "colab": {
          "base_uri": "https://localhost:8080/"
        },
        "id": "ZFqqZpmm6KQT",
        "outputId": "ea64b937-f0ff-4c63-9042-51ab55cd7bff"
      },
      "id": "ZFqqZpmm6KQT",
      "execution_count": 82,
      "outputs": [
        {
          "output_type": "stream",
          "name": "stdout",
          "text": [
            "(11, 11)\n"
          ]
        }
      ]
    },
    {
      "cell_type": "code",
      "source": [
        "ans = np.concatenate((ansx.reshape(11, 11, 1), ansy.reshape(11, 11, 1)), axis=2)\n",
        "ans"
      ],
      "metadata": {
        "colab": {
          "base_uri": "https://localhost:8080/"
        },
        "id": "omXyUTvQ-R6P",
        "outputId": "6517c2df-eebc-48d6-d9e5-0a2709f5efaa"
      },
      "id": "omXyUTvQ-R6P",
      "execution_count": 83,
      "outputs": [
        {
          "output_type": "execute_result",
          "data": {
            "text/plain": [
              "array([[[-5.00000000e-01, -5.00000000e-01],\n",
              "        [-4.00000000e-01, -5.00000000e-01],\n",
              "        [-3.00000000e-01, -5.00000000e-01],\n",
              "        [-2.00000000e-01, -5.00000000e-01],\n",
              "        [-1.00000000e-01, -5.00000000e-01],\n",
              "        [-1.11022302e-16, -5.00000000e-01],\n",
              "        [ 1.00000000e-01, -5.00000000e-01],\n",
              "        [ 2.00000000e-01, -5.00000000e-01],\n",
              "        [ 3.00000000e-01, -5.00000000e-01],\n",
              "        [ 4.00000000e-01, -5.00000000e-01],\n",
              "        [ 5.00000000e-01, -5.00000000e-01]],\n",
              "\n",
              "       [[-5.00000000e-01, -4.00000000e-01],\n",
              "        [-4.00000000e-01, -4.00000000e-01],\n",
              "        [-3.00000000e-01, -4.00000000e-01],\n",
              "        [-2.00000000e-01, -4.00000000e-01],\n",
              "        [-1.00000000e-01, -4.00000000e-01],\n",
              "        [-1.11022302e-16, -4.00000000e-01],\n",
              "        [ 1.00000000e-01, -4.00000000e-01],\n",
              "        [ 2.00000000e-01, -4.00000000e-01],\n",
              "        [ 3.00000000e-01, -4.00000000e-01],\n",
              "        [ 4.00000000e-01, -4.00000000e-01],\n",
              "        [ 5.00000000e-01, -4.00000000e-01]],\n",
              "\n",
              "       [[-5.00000000e-01, -3.00000000e-01],\n",
              "        [-4.00000000e-01, -3.00000000e-01],\n",
              "        [-3.00000000e-01, -3.00000000e-01],\n",
              "        [-2.00000000e-01, -3.00000000e-01],\n",
              "        [-1.00000000e-01, -3.00000000e-01],\n",
              "        [-1.11022302e-16, -3.00000000e-01],\n",
              "        [ 1.00000000e-01, -3.00000000e-01],\n",
              "        [ 2.00000000e-01, -3.00000000e-01],\n",
              "        [ 3.00000000e-01, -3.00000000e-01],\n",
              "        [ 4.00000000e-01, -3.00000000e-01],\n",
              "        [ 5.00000000e-01, -3.00000000e-01]],\n",
              "\n",
              "       [[-5.00000000e-01, -2.00000000e-01],\n",
              "        [-4.00000000e-01, -2.00000000e-01],\n",
              "        [-3.00000000e-01, -2.00000000e-01],\n",
              "        [-2.00000000e-01, -2.00000000e-01],\n",
              "        [-1.00000000e-01, -2.00000000e-01],\n",
              "        [-1.11022302e-16, -2.00000000e-01],\n",
              "        [ 1.00000000e-01, -2.00000000e-01],\n",
              "        [ 2.00000000e-01, -2.00000000e-01],\n",
              "        [ 3.00000000e-01, -2.00000000e-01],\n",
              "        [ 4.00000000e-01, -2.00000000e-01],\n",
              "        [ 5.00000000e-01, -2.00000000e-01]],\n",
              "\n",
              "       [[-5.00000000e-01, -1.00000000e-01],\n",
              "        [-4.00000000e-01, -1.00000000e-01],\n",
              "        [-3.00000000e-01, -1.00000000e-01],\n",
              "        [-2.00000000e-01, -1.00000000e-01],\n",
              "        [-1.00000000e-01, -1.00000000e-01],\n",
              "        [-1.11022302e-16, -1.00000000e-01],\n",
              "        [ 1.00000000e-01, -1.00000000e-01],\n",
              "        [ 2.00000000e-01, -1.00000000e-01],\n",
              "        [ 3.00000000e-01, -1.00000000e-01],\n",
              "        [ 4.00000000e-01, -1.00000000e-01],\n",
              "        [ 5.00000000e-01, -1.00000000e-01]],\n",
              "\n",
              "       [[-5.00000000e-01, -1.11022302e-16],\n",
              "        [-4.00000000e-01, -1.11022302e-16],\n",
              "        [-3.00000000e-01, -1.11022302e-16],\n",
              "        [-2.00000000e-01, -1.11022302e-16],\n",
              "        [-1.00000000e-01, -1.11022302e-16],\n",
              "        [-1.11022302e-16, -1.11022302e-16],\n",
              "        [ 1.00000000e-01, -1.11022302e-16],\n",
              "        [ 2.00000000e-01, -1.11022302e-16],\n",
              "        [ 3.00000000e-01, -1.11022302e-16],\n",
              "        [ 4.00000000e-01, -1.11022302e-16],\n",
              "        [ 5.00000000e-01, -1.11022302e-16]],\n",
              "\n",
              "       [[-5.00000000e-01,  1.00000000e-01],\n",
              "        [-4.00000000e-01,  1.00000000e-01],\n",
              "        [-3.00000000e-01,  1.00000000e-01],\n",
              "        [-2.00000000e-01,  1.00000000e-01],\n",
              "        [-1.00000000e-01,  1.00000000e-01],\n",
              "        [-1.11022302e-16,  1.00000000e-01],\n",
              "        [ 1.00000000e-01,  1.00000000e-01],\n",
              "        [ 2.00000000e-01,  1.00000000e-01],\n",
              "        [ 3.00000000e-01,  1.00000000e-01],\n",
              "        [ 4.00000000e-01,  1.00000000e-01],\n",
              "        [ 5.00000000e-01,  1.00000000e-01]],\n",
              "\n",
              "       [[-5.00000000e-01,  2.00000000e-01],\n",
              "        [-4.00000000e-01,  2.00000000e-01],\n",
              "        [-3.00000000e-01,  2.00000000e-01],\n",
              "        [-2.00000000e-01,  2.00000000e-01],\n",
              "        [-1.00000000e-01,  2.00000000e-01],\n",
              "        [-1.11022302e-16,  2.00000000e-01],\n",
              "        [ 1.00000000e-01,  2.00000000e-01],\n",
              "        [ 2.00000000e-01,  2.00000000e-01],\n",
              "        [ 3.00000000e-01,  2.00000000e-01],\n",
              "        [ 4.00000000e-01,  2.00000000e-01],\n",
              "        [ 5.00000000e-01,  2.00000000e-01]],\n",
              "\n",
              "       [[-5.00000000e-01,  3.00000000e-01],\n",
              "        [-4.00000000e-01,  3.00000000e-01],\n",
              "        [-3.00000000e-01,  3.00000000e-01],\n",
              "        [-2.00000000e-01,  3.00000000e-01],\n",
              "        [-1.00000000e-01,  3.00000000e-01],\n",
              "        [-1.11022302e-16,  3.00000000e-01],\n",
              "        [ 1.00000000e-01,  3.00000000e-01],\n",
              "        [ 2.00000000e-01,  3.00000000e-01],\n",
              "        [ 3.00000000e-01,  3.00000000e-01],\n",
              "        [ 4.00000000e-01,  3.00000000e-01],\n",
              "        [ 5.00000000e-01,  3.00000000e-01]],\n",
              "\n",
              "       [[-5.00000000e-01,  4.00000000e-01],\n",
              "        [-4.00000000e-01,  4.00000000e-01],\n",
              "        [-3.00000000e-01,  4.00000000e-01],\n",
              "        [-2.00000000e-01,  4.00000000e-01],\n",
              "        [-1.00000000e-01,  4.00000000e-01],\n",
              "        [-1.11022302e-16,  4.00000000e-01],\n",
              "        [ 1.00000000e-01,  4.00000000e-01],\n",
              "        [ 2.00000000e-01,  4.00000000e-01],\n",
              "        [ 3.00000000e-01,  4.00000000e-01],\n",
              "        [ 4.00000000e-01,  4.00000000e-01],\n",
              "        [ 5.00000000e-01,  4.00000000e-01]],\n",
              "\n",
              "       [[-5.00000000e-01,  5.00000000e-01],\n",
              "        [-4.00000000e-01,  5.00000000e-01],\n",
              "        [-3.00000000e-01,  5.00000000e-01],\n",
              "        [-2.00000000e-01,  5.00000000e-01],\n",
              "        [-1.00000000e-01,  5.00000000e-01],\n",
              "        [-1.11022302e-16,  5.00000000e-01],\n",
              "        [ 1.00000000e-01,  5.00000000e-01],\n",
              "        [ 2.00000000e-01,  5.00000000e-01],\n",
              "        [ 3.00000000e-01,  5.00000000e-01],\n",
              "        [ 4.00000000e-01,  5.00000000e-01],\n",
              "        [ 5.00000000e-01,  5.00000000e-01]]])"
            ]
          },
          "metadata": {},
          "execution_count": 83
        }
      ]
    },
    {
      "cell_type": "markdown",
      "id": "BQD_BNN-CqCm",
      "metadata": {
        "id": "BQD_BNN-CqCm"
      },
      "source": [
        "Задание 11.\n",
        "\n",
        "Замощение сетки $8\\times8$ при помощи $0$ и $1$ в шахматном порядке, клетка с индексом $(0,0)$ замощается $1$"
      ]
    },
    {
      "cell_type": "code",
      "execution_count": 84,
      "id": "whMdrRLx9G8Y",
      "metadata": {
        "id": "whMdrRLx9G8Y",
        "colab": {
          "base_uri": "https://localhost:8080/"
        },
        "outputId": "b84647f4-2140-47c2-c888-931a9c072171"
      },
      "outputs": [
        {
          "output_type": "execute_result",
          "data": {
            "text/plain": [
              "array([[1, 0, 1, 0, 1, 0, 1, 0],\n",
              "       [0, 1, 0, 1, 0, 1, 0, 1],\n",
              "       [1, 0, 1, 0, 1, 0, 1, 0],\n",
              "       [0, 1, 0, 1, 0, 1, 0, 1],\n",
              "       [1, 0, 1, 0, 1, 0, 1, 0],\n",
              "       [0, 1, 0, 1, 0, 1, 0, 1],\n",
              "       [1, 0, 1, 0, 1, 0, 1, 0],\n",
              "       [0, 1, 0, 1, 0, 1, 0, 1]])"
            ]
          },
          "metadata": {},
          "execution_count": 84
        }
      ],
      "source": [
        "np.delete((np.arange(1, 82, 1).reshape((9, 9)) % 2)[:-1], -1, axis=1)"
      ]
    },
    {
      "cell_type": "markdown",
      "id": "5tl1is5hCxH7",
      "metadata": {
        "id": "5tl1is5hCxH7"
      },
      "source": [
        "Задание 12.\n",
        "\n",
        "То же замощение, но клетка с индексом $(0,0)$ замощается $0$"
      ]
    },
    {
      "cell_type": "code",
      "execution_count": 85,
      "id": "TP8Risy79TkG",
      "metadata": {
        "id": "TP8Risy79TkG",
        "colab": {
          "base_uri": "https://localhost:8080/"
        },
        "outputId": "8ceafcdb-a942-429a-8f7a-2101c61b3717"
      },
      "outputs": [
        {
          "output_type": "execute_result",
          "data": {
            "text/plain": [
              "array([[0, 1, 0, 1, 0, 1, 0, 1],\n",
              "       [1, 0, 1, 0, 1, 0, 1, 0],\n",
              "       [0, 1, 0, 1, 0, 1, 0, 1],\n",
              "       [1, 0, 1, 0, 1, 0, 1, 0],\n",
              "       [0, 1, 0, 1, 0, 1, 0, 1],\n",
              "       [1, 0, 1, 0, 1, 0, 1, 0],\n",
              "       [0, 1, 0, 1, 0, 1, 0, 1],\n",
              "       [1, 0, 1, 0, 1, 0, 1, 0]])"
            ]
          },
          "metadata": {},
          "execution_count": 85
        }
      ],
      "source": [
        "np.delete((np.arange(0, 81, 1).reshape((9, 9)) % 2)[:-1], -1, axis=1)"
      ]
    },
    {
      "cell_type": "markdown",
      "id": "xwut71HZC401",
      "metadata": {
        "id": "xwut71HZC401"
      },
      "source": [
        "Задание 13.\n",
        "\n",
        "Необходимо построить нижне-треугольную матрицу переменного размера (задается передачей параметра в функцию). Это единичная матрица,замощённая $1$ под главной диагональю"
      ]
    },
    {
      "cell_type": "markdown",
      "source": [
        "Возможно можно проще, я здесь подумал, что матрицу где на главной диоганале 1, а под главной -1. Т.е. таково вида:\n",
        "\\begin{align*}\n",
        "M =\n",
        "\\left(\\begin{matrix} \n",
        "1 & 0 & 0 & 0\\\\\n",
        "-1 & 1 & 0 & 0\\\\\n",
        "0 & -1 & 1 & 0\\\\\n",
        "0 & 0 & -1 & 1\n",
        "\\end{matrix}\\right)\n",
        "\\end{align*}\n",
        "сделать проще. А это матрица обратная к той которая нам нужна"
      ],
      "metadata": {
        "id": "uXKcdG0d3SWY"
      },
      "id": "uXKcdG0d3SWY"
    },
    {
      "cell_type": "code",
      "execution_count": 86,
      "id": "f819Rv2uxDOz",
      "metadata": {
        "id": "f819Rv2uxDOz",
        "colab": {
          "base_uri": "https://localhost:8080/"
        },
        "outputId": "f1b5af38-6d81-4998-dbd0-73b15cc538a6"
      },
      "outputs": [
        {
          "output_type": "stream",
          "name": "stdout",
          "text": [
            "[[1. 0. 0. 0. 0. 0. 0. 0. 0. 0.]\n",
            " [1. 1. 0. 0. 0. 0. 0. 0. 0. 0.]\n",
            " [1. 1. 1. 0. 0. 0. 0. 0. 0. 0.]\n",
            " [1. 1. 1. 1. 0. 0. 0. 0. 0. 0.]\n",
            " [1. 1. 1. 1. 1. 0. 0. 0. 0. 0.]\n",
            " [1. 1. 1. 1. 1. 1. 0. 0. 0. 0.]\n",
            " [1. 1. 1. 1. 1. 1. 1. 0. 0. 0.]\n",
            " [1. 1. 1. 1. 1. 1. 1. 1. 0. 0.]\n",
            " [1. 1. 1. 1. 1. 1. 1. 1. 1. 0.]\n",
            " [1. 1. 1. 1. 1. 1. 1. 1. 1. 1.]]\n"
          ]
        }
      ],
      "source": [
        "def make_low_triangle(n):\n",
        "  zero_row = np.zeros(n - 1)\n",
        "  zero_col = np.zeros((n, 1))\n",
        "  part_ans_rev = -1 * np.concatenate((np.vstack((zero_row, np.eye(n - 1))), zero_col), axis=1)\n",
        "  ans = np.linalg.inv(part_ans_rev + np.eye(n))\n",
        "  return ans\n",
        "\n",
        "\n",
        "print(make_low_triangle(10))"
      ]
    },
    {
      "cell_type": "markdown",
      "id": "vhkgdaj3DGGr",
      "metadata": {
        "id": "vhkgdaj3DGGr"
      },
      "source": [
        "Задание 14.\n",
        "\n",
        "Необходимо построить верхне-треугольную матрицу переменного размера. Это единичная матрица, замощённая $1$ над главной диагональю"
      ]
    },
    {
      "cell_type": "code",
      "execution_count": 87,
      "id": "bwsDUhYT9kP0",
      "metadata": {
        "id": "bwsDUhYT9kP0",
        "colab": {
          "base_uri": "https://localhost:8080/"
        },
        "outputId": "9694216b-d802-4958-c7e0-82e625010419"
      },
      "outputs": [
        {
          "output_type": "stream",
          "name": "stdout",
          "text": [
            "[[1. 1. 1. 1. 1. 1. 1. 1. 1. 1.]\n",
            " [0. 1. 1. 1. 1. 1. 1. 1. 1. 1.]\n",
            " [0. 0. 1. 1. 1. 1. 1. 1. 1. 1.]\n",
            " [0. 0. 0. 1. 1. 1. 1. 1. 1. 1.]\n",
            " [0. 0. 0. 0. 1. 1. 1. 1. 1. 1.]\n",
            " [0. 0. 0. 0. 0. 1. 1. 1. 1. 1.]\n",
            " [0. 0. 0. 0. 0. 0. 1. 1. 1. 1.]\n",
            " [0. 0. 0. 0. 0. 0. 0. 1. 1. 1.]\n",
            " [0. 0. 0. 0. 0. 0. 0. 0. 1. 1.]\n",
            " [0. 0. 0. 0. 0. 0. 0. 0. 0. 1.]]\n"
          ]
        }
      ],
      "source": [
        "def make_up_triangle(n):\n",
        "  return np.eye(n) + (1 - make_low_triangle(n))\n",
        "\n",
        "\n",
        "print(make_up_triangle(10))"
      ]
    },
    {
      "cell_type": "markdown",
      "id": "L2HbqtTjDM1a",
      "metadata": {
        "id": "L2HbqtTjDM1a"
      },
      "source": [
        "Задание 15.\n",
        "\n",
        "Необходимо построить матрицу, в которой единицы стоят на побочной диагонали (идущей из левого нижнего угла в правый верхний), в остальных местах стоят $0$"
      ]
    },
    {
      "cell_type": "code",
      "execution_count": 88,
      "id": "vM6ez-K69to2",
      "metadata": {
        "id": "vM6ez-K69to2",
        "colab": {
          "base_uri": "https://localhost:8080/"
        },
        "outputId": "64334181-7598-47c5-b2f2-3de51163b8b3"
      },
      "outputs": [
        {
          "output_type": "execute_result",
          "data": {
            "text/plain": [
              "array([[0, 0, 0, 0, 0, 0, 0, 0, 0, 1],\n",
              "       [0, 0, 0, 0, 0, 0, 0, 0, 1, 0],\n",
              "       [0, 0, 0, 0, 0, 0, 0, 1, 0, 0],\n",
              "       [0, 0, 0, 0, 0, 0, 1, 0, 0, 0],\n",
              "       [0, 0, 0, 0, 0, 1, 0, 0, 0, 0],\n",
              "       [0, 0, 0, 0, 1, 0, 0, 0, 0, 0],\n",
              "       [0, 0, 0, 1, 0, 0, 0, 0, 0, 0],\n",
              "       [0, 0, 1, 0, 0, 0, 0, 0, 0, 0],\n",
              "       [0, 1, 0, 0, 0, 0, 0, 0, 0, 0],\n",
              "       [1, 0, 0, 0, 0, 0, 0, 0, 0, 0]])"
            ]
          },
          "metadata": {},
          "execution_count": 88
        }
      ],
      "source": [
        "def strange_eye(n):\n",
        "  arr = np.delete((np.arange(0, (n + 1) ** 2, 1).reshape(n + 1, n + 1) % n)[:-1], -1, axis=-1)\n",
        "  arr[arr % n != n - 1] = 0\n",
        "  arr[arr % n == n - 1] = 1\n",
        "  return arr\n",
        "\n",
        "strange_eye(10)"
      ]
    },
    {
      "cell_type": "markdown",
      "id": "xeL6jav0w0U-",
      "metadata": {
        "id": "xeL6jav0w0U-"
      },
      "source": [
        "### Операции + аггрегации (3 балла)"
      ]
    },
    {
      "cell_type": "markdown",
      "id": "vOPIAFopHUKs",
      "metadata": {
        "id": "vOPIAFopHUKs"
      },
      "source": [
        "Задание 16.\n",
        "\n",
        "Дана выборка $\\{X_i\\}$ некоторой случайной величины $X$, необходимо оценить\n",
        "* Математическое ожидание $E[X] = \\frac{1}{N}\\sum_{i=1}^N X_i$ этой случайной величины\n",
        "* Дисперсию $D[X] = \\frac{1}{N}\\sum_{i=1}^N (X_i - E[X])^2$ этой случайной величины"
      ]
    },
    {
      "cell_type": "code",
      "execution_count": 89,
      "id": "uHQ-DiR4JB0p",
      "metadata": {
        "id": "uHQ-DiR4JB0p"
      },
      "outputs": [],
      "source": [
        "def expected_value(x):\n",
        "    assert len(x) > 0\n",
        "    return sum(x) / len(x)\n",
        "\n",
        "\n",
        "def dispersion(x):\n",
        "    assert len(x) > 0\n",
        "    d = 0\n",
        "    e = expected_value(x)\n",
        "    for x_i in x:\n",
        "        d += (x_i - e) ** 2\n",
        "    return d / len(x)"
      ]
    },
    {
      "cell_type": "code",
      "execution_count": 90,
      "id": "XVFo8hitHSav",
      "metadata": {
        "id": "XVFo8hitHSav"
      },
      "outputs": [],
      "source": [
        "def expected_value_np(x):\n",
        "    return x.mean()"
      ]
    },
    {
      "cell_type": "code",
      "execution_count": 91,
      "id": "f2jCC5EjJkl0",
      "metadata": {
        "id": "f2jCC5EjJkl0"
      },
      "outputs": [],
      "source": [
        "def dispersion_np(x):\n",
        "    return ((x - expected_value_np(x)) ** 2).sum() / len(x)"
      ]
    },
    {
      "cell_type": "code",
      "execution_count": 92,
      "id": "dEGp_cuFJoX9",
      "metadata": {
        "id": "dEGp_cuFJoX9"
      },
      "outputs": [],
      "source": [
        "np.testing.assert_array_equal(expected_value([1]), expected_value_np(np.array([1])))\n",
        "np.testing.assert_array_equal(expected_value([3, 4]), expected_value_np(np.array([3, 4])))\n",
        "np.testing.assert_array_equal(expected_value([-1, 0, 1]), expected_value_np(np.array([-1, 0, 1])))\n",
        "np.testing.assert_array_equal(expected_value([-99, -98]), expected_value_np(np.array([-99, -98])))\n",
        "\n",
        "np.testing.assert_array_equal(dispersion([1]), dispersion_np(np.array([1])))\n",
        "np.testing.assert_array_equal(dispersion([3, 4]), dispersion_np(np.array([3, 4])))\n",
        "np.testing.assert_array_equal(dispersion([-1, 0, 1]), dispersion_np(np.array([-1, 0, 1])))\n",
        "np.testing.assert_array_equal(dispersion([-99, -98]), dispersion_np(np.array([-99, -98])))"
      ]
    },
    {
      "cell_type": "markdown",
      "id": "BO9aCDmYBf1R",
      "metadata": {
        "id": "BO9aCDmYBf1R"
      },
      "source": [
        "Задание 17.\n",
        "\n",
        "Даны два вектора $y_1$ и $y_2$, нужно посчитать среднее арифметическое квадратов разностей их значений"
      ]
    },
    {
      "cell_type": "code",
      "execution_count": 93,
      "id": "5ZgYjfj5KW4g",
      "metadata": {
        "id": "5ZgYjfj5KW4g"
      },
      "outputs": [],
      "source": [
        "def mean_square_difference(y1, y2):\n",
        "    assert len(y1) == len(y2) and len(y1) > 0\n",
        "    # Здесь и далее эти проверки !не нужно! дублировать в свои функции; Здесь они для того, чтобы лишний раз подчеркнуть валидность входных данных\n",
        "    s = 0\n",
        "    for i in range(len(y1)):\n",
        "        s += (y1[i] - y2[i]) ** 2\n",
        "    return s / len(y1)"
      ]
    },
    {
      "cell_type": "code",
      "execution_count": 94,
      "id": "r3kxTnLlw7dA",
      "metadata": {
        "id": "r3kxTnLlw7dA"
      },
      "outputs": [],
      "source": [
        "def mean_square_difference_np(y1, y2):\n",
        "    return ((y1 - y2) ** 2).mean()"
      ]
    },
    {
      "cell_type": "code",
      "execution_count": 95,
      "id": "CVuNT_iRKrFM",
      "metadata": {
        "id": "CVuNT_iRKrFM"
      },
      "outputs": [],
      "source": [
        "assert mean_square_difference([1], [1]) == mean_square_difference_np(np.array([1]), np.array([1]))\n",
        "assert mean_square_difference([1, 2], [1, 2]) == mean_square_difference_np(np.array([1, 2]), np.array([1, 2]))\n",
        "assert mean_square_difference([-1, 1], [0, 0]) == mean_square_difference_np(np.array([-1, 1]), np.array([0, 0]))\n",
        "assert mean_square_difference([-3, -2, 0, 1, 4], [-2, -2, -1, -1, 5]) == mean_square_difference_np(np.array([-3, -2, 0, 1, 4]), np.array([-2, -2, -1, -1, 5]))"
      ]
    },
    {
      "cell_type": "markdown",
      "id": "FlYEqBJuBeX_",
      "metadata": {
        "id": "FlYEqBJuBeX_"
      },
      "source": [
        "Задание 18.\n",
        "\n",
        "Даны два вектора $y_1$ и $y_2$, нужно посчитать среднее арифметическое модулей разностей их значений"
      ]
    },
    {
      "cell_type": "code",
      "execution_count": 96,
      "id": "YYFm_USNLR0g",
      "metadata": {
        "id": "YYFm_USNLR0g"
      },
      "outputs": [],
      "source": [
        "def mean_abs_difference(y1, y2):\n",
        "    assert len(y1) == len(y2) and len(y1) > 0\n",
        "    s = 0\n",
        "    for i in range(len(y1)):\n",
        "        s += abs(y1[i] - y2[i])\n",
        "    return s / len(y1)"
      ]
    },
    {
      "cell_type": "code",
      "execution_count": 97,
      "id": "YND9wAXGLSrU",
      "metadata": {
        "id": "YND9wAXGLSrU"
      },
      "outputs": [],
      "source": [
        "def mean_abs_difference_np(y1, y2):\n",
        "    return abs(y1 - y2).mean()"
      ]
    },
    {
      "cell_type": "code",
      "execution_count": 98,
      "id": "a6AVnlOp-N_E",
      "metadata": {
        "id": "a6AVnlOp-N_E"
      },
      "outputs": [],
      "source": [
        "assert mean_abs_difference([1], [1]) == mean_abs_difference_np(np.array([1]), np.array([1]))\n",
        "assert mean_abs_difference([1, 2], [1, 2]) == mean_abs_difference_np(np.array([1, 2]), np.array([1, 2]))\n",
        "assert mean_abs_difference([-1, 1], [0, 0]) == mean_abs_difference_np(np.array([-1, 1]), np.array([0, 0]))\n",
        "assert mean_abs_difference([-3, -2, 0, 1, 4], [-2, -2, -1, -1, 5]) == mean_abs_difference_np(np.array([-3, -2, 0, 1, 4]), np.array([-2, -2, -1, -1, 5]))"
      ]
    },
    {
      "cell_type": "markdown",
      "id": "MCJcY2TDBVX2",
      "metadata": {
        "id": "MCJcY2TDBVX2"
      },
      "source": [
        "Задание 19.\n",
        "\n",
        "Даны два вектора $y_1$ и $y_2$, в которых присутствуют только $0$ и $1$. Необходимо посчитать вероятность совпадения - в скольких точках значения двух векторов совпадают"
      ]
    },
    {
      "cell_type": "code",
      "execution_count": 99,
      "id": "MFRHNu3RLdAM",
      "metadata": {
        "id": "MFRHNu3RLdAM"
      },
      "outputs": [],
      "source": [
        "def matching_proba(y1, y2):\n",
        "    assert len(y1) == len(y2) and len(y1) > 0\n",
        "    assert len(set(y1)) <= 2\n",
        "    assert len(set(y2)) <= 2\n",
        "    assert 0 in set(y1) or 1 in set(y1) or (0 in set(y1) and 1 in set(y1))\n",
        "    assert 0 in set(y2) or 1 in set(y2) or (0 in set(y2) and 1 in set(y2))\n",
        "\n",
        "    return sum([y1[i] == y2[i] for i in range(len(y1))]) / len(y1)"
      ]
    },
    {
      "cell_type": "code",
      "execution_count": 100,
      "id": "C48P4bQBMnZQ",
      "metadata": {
        "id": "C48P4bQBMnZQ"
      },
      "outputs": [],
      "source": [
        "def matching_proba_np(y1, y2):\n",
        "    return len(y1[y1 == y2]) / len(y1)"
      ]
    },
    {
      "cell_type": "code",
      "execution_count": 101,
      "id": "-DDiBxPEMZwu",
      "metadata": {
        "id": "-DDiBxPEMZwu"
      },
      "outputs": [],
      "source": [
        "np.testing.assert_array_equal(matching_proba([0, 1], [1, 0]), matching_proba_np(np.array([0, 1]), np.array([1, 0])))\n",
        "np.testing.assert_array_equal(matching_proba([0, 1, 0, 1], [0, 0, 1, 1]), matching_proba_np(np.array([0, 1, 0, 1]), np.array([0, 0, 1, 1])))\n",
        "np.testing.assert_array_equal(matching_proba([0, 0, 1, 1], [0, 0, 1, 1]), matching_proba_np(np.array([0, 0, 1, 1]), np.array([0, 0, 1, 1])))"
      ]
    },
    {
      "cell_type": "markdown",
      "id": "F_a98XRF_WnS",
      "metadata": {
        "id": "F_a98XRF_WnS"
      },
      "source": [
        "Задание 20.\n",
        "\n",
        "Даны два вектора: $y_1$, $y_2$. В $y_1$ и $y_2$ присутствуют только $0$ и $1$.\n",
        "\n",
        "Необходимо найти границы (индексы), такие, что если мы разделим вдоль какой-то из этих границ оба вектора на две части, то\n",
        "* в левой части пересекающихся в $y_1$ и $y_2$ нулей будет строго больше, чем пересекающихся единиц или непересекающихся элементов\n",
        "* в правой - пересекающихся единиц строго больше, чем пересекающихся нулей или непересекающихся элементов.\n",
        "\n",
        "Если какая-то из частей не содержит элементов вовсе, то будем считать, что она подходит под условие."
      ]
    },
    {
      "cell_type": "code",
      "execution_count": 102,
      "id": "b6FUo3G_NDge",
      "metadata": {
        "id": "b6FUo3G_NDge"
      },
      "outputs": [],
      "source": [
        "def find_thresholds(y1, y2, debug=False):\n",
        "    assert len(y1) == len(y2) and len(y1) > 0\n",
        "    n = len(y1)\n",
        "    matching_zeros = [1 if y1[i] == y2[i] == 0 else 0 for i in range(n)]\n",
        "    matching_ones = [1 if y1[i] == y2[i] == 1 else 0 for i in range(n)]\n",
        "    res = []\n",
        "    if sum(matching_ones) / n > 0.5:\n",
        "        res.append(0)\n",
        "    for i in range(1, n):\n",
        "        if debug: # если вам непонятна логика работы этой функции, передайте третьим аргументом True\n",
        "            print(matching_zeros[:i], matching_ones[i:], i)\n",
        "        if sum(matching_zeros[:i]) / i > 0.5 and sum(matching_ones[i:]) / (n - i) > 0.5:\n",
        "            res.append(i)\n",
        "    if sum(matching_zeros) / n > 0.5:\n",
        "        res.append(n)\n",
        "    return res"
      ]
    },
    {
      "cell_type": "code",
      "execution_count": 103,
      "id": "aD34QrPrReVK",
      "metadata": {
        "id": "aD34QrPrReVK"
      },
      "outputs": [],
      "source": [
        "def find_thresholds_np(y1, y2):\n",
        "    n = y1.shape[0]\n",
        "    zeros = (y1 == 0) & (y2 == 0)\n",
        "    ones = (y1 == 1) & (y2 == 1)\n",
        "    ans = np.zeros(1 if 2 * np.count_nonzero(ones) > n else 0, dtype=int) # костыль для 0)\n",
        "    pref0 = zeros.cumsum()[:-1]\n",
        "    suf1 = ones[::-1].cumsum()[::-1][1:]\n",
        "    if pref0.shape[0] > 0 and suf1.shape[0] > 0:\n",
        "        nrange = np.arange(1, n)\n",
        "        backnrange = np.arange(n - 1, 0, -1)\n",
        "        pref0 = pref0 / nrange\n",
        "        suf1 = suf1 / backnrange\n",
        "        ans = np.hstack((ans, nrange[(2 * pref0 > 1) & (2 * suf1 > 1)]))\n",
        "    if 2 * np.count_nonzero(zeros) > n:\n",
        "        ans = np.append(ans, n) # костыль для n)\n",
        "    return ans.astype(int)"
      ]
    },
    {
      "cell_type": "code",
      "execution_count": 104,
      "id": "oSSMaAp3PT-R",
      "metadata": {
        "id": "oSSMaAp3PT-R"
      },
      "outputs": [],
      "source": [
        "np.testing.assert_array_equal(find_thresholds([0], [0]), find_thresholds_np(np.array([0]), np.array([0])))\n",
        "np.testing.assert_array_equal(find_thresholds([1], [1]), find_thresholds_np(np.array([1]), np.array([1])))\n",
        "np.testing.assert_array_equal(\n",
        "    find_thresholds([0, 0, 1, 1], [0, 0, 1, 1]), \n",
        "    find_thresholds_np(np.array([0, 0, 1, 1]), np.array([0, 0, 1, 1]))\n",
        ")\n",
        "np.testing.assert_array_equal(\n",
        "    find_thresholds([0, 0, 1, 0, 0, 1, 1, 1], [0, 0, 0, 0, 0, 1, 1, 1]),\n",
        "    find_thresholds_np(np.array([0, 0, 1, 0, 0, 1, 1, 1]), np.array([0, 0, 0, 0, 0, 1, 1, 1]))\n",
        ")"
      ]
    },
    {
      "cell_type": "markdown",
      "id": "QzL-JrqmxD8s",
      "metadata": {
        "id": "QzL-JrqmxD8s"
      },
      "source": [
        "### Разные действия с матрицами (3 балла)"
      ]
    },
    {
      "cell_type": "markdown",
      "id": "8cRkht0DTyJm",
      "metadata": {
        "id": "8cRkht0DTyJm"
      },
      "source": [
        "Задание 21.\n",
        "\n",
        "Дана матрица размера $(32, 3, 16, 16)$, заполненная случайными числами от 0 до 9. При помощи **ровно двух** преобразований приведите её к виду $(32, 1)$. При выполнении задания **можно** создавать вспомогательные матрицы!"
      ]
    },
    {
      "cell_type": "code",
      "execution_count": 105,
      "id": "XiBftUkYUJHx",
      "metadata": {
        "id": "XiBftUkYUJHx"
      },
      "outputs": [],
      "source": [
        "data = np.random.randint(0, 10, size=(32, 3, 16, 16))\n",
        "\n",
        "data = data.reshape(32, 3 * 16 * 16)\n",
        "data = data @ np.ones((3 * 16 * 16, 1))\n",
        "\n",
        "assert data.shape == (32, 1)"
      ]
    },
    {
      "cell_type": "markdown",
      "id": "BlZrnx1TU3Oe",
      "metadata": {
        "id": "BlZrnx1TU3Oe"
      },
      "source": [
        "Задание 22.\n",
        "\n",
        "Даны две матрицы $m_1$ размером $(32, 256)$ и $m_2$ размером $(32, 512)$, а также две вспомогательные матрицы $W_1$ размером $(256, 32)$ и $W_2$ размером $(512, 16)$. Используя **все** данные матрицы, сделайте так, чтобы на выходе получилась **ровно одна** матрица размером $(32, 32)$"
      ]
    },
    {
      "cell_type": "code",
      "execution_count": 106,
      "id": "XiQOLjOgxENb",
      "metadata": {
        "id": "XiQOLjOgxENb"
      },
      "outputs": [],
      "source": [
        "m1 = np.random.randint(0, 10, size=(32, 256))\n",
        "m2 = np.random.randint(0, 10, size=(32, 512))\n",
        "W1 = np.random.randint(0, 10, size=(256, 32))\n",
        "W2 = np.random.randint(0, 10, size=(512, 16))\n",
        "\n",
        "result = np.concatenate((m1 @ W1 @ m2 @ W2, m1 @ W1 @ m2 @ W2), axis=1)\n",
        "assert result.shape == (32, 32)"
      ]
    },
    {
      "cell_type": "markdown",
      "id": "dGTtWMlOWSyr",
      "metadata": {
        "id": "dGTtWMlOWSyr"
      },
      "source": [
        "Задание 23.\n",
        "\n",
        "Приведите полученную на последнем шаге матрицу к виду $(32, 3)$ и сделайте так, чтобы все значения в этой матрице были в промежутке от $0$ до $1$"
      ]
    },
    {
      "cell_type": "code",
      "execution_count": 107,
      "id": "JM1Ngv6oWSZE",
      "metadata": {
        "id": "JM1Ngv6oWSZE"
      },
      "outputs": [],
      "source": [
        "# Вжух! (∩｀-´)⊃━☆ﾟ.*･｡ﾟ\n",
        "result = result @ (np.linspace(1e-12, 1e-11, 32 * 3).reshape(32, 3))\n",
        "\n",
        "assert result.shape == (32, 3)\n",
        "assert ((result >= 0) & (result <= 1)).all()"
      ]
    }
  ],
  "metadata": {
    "colab": {
      "collapsed_sections": [],
      "name": "Porfirev_Anton_hw1.ipynb",
      "provenance": []
    },
    "kernelspec": {
      "display_name": "Python 3",
      "language": "python",
      "name": "python3"
    },
    "language_info": {
      "codemirror_mode": {
        "name": "ipython",
        "version": 3
      },
      "file_extension": ".py",
      "mimetype": "text/x-python",
      "name": "python",
      "nbconvert_exporter": "python",
      "pygments_lexer": "ipython3",
      "version": "3.7.10"
    }
  },
  "nbformat": 4,
  "nbformat_minor": 5
}